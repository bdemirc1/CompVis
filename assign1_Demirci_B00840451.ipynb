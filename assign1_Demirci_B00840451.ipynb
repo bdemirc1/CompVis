{
  "nbformat": 4,
  "nbformat_minor": 0,
  "metadata": {
    "colab": {
      "provenance": [],
      "authorship_tag": "ABX9TyNH8SLw+ZTr8FEFv8XvxjKQ",
      "include_colab_link": true
    },
    "kernelspec": {
      "name": "python3",
      "display_name": "Python 3"
    },
    "language_info": {
      "name": "python"
    }
  },
  "cells": [
    {
      "cell_type": "markdown",
      "metadata": {
        "id": "view-in-github",
        "colab_type": "text"
      },
      "source": [
        "<a href=\"https://colab.research.google.com/github/bdemirc1/CompVis/blob/main/assign1_Demirci_B00840451.ipynb\" target=\"_parent\"><img src=\"https://colab.research.google.com/assets/colab-badge.svg\" alt=\"Open In Colab\"/></a>"
      ]
    },
    {
      "cell_type": "markdown",
      "source": [
        "* **Busra Demirci**\n",
        "* **B00840451**\n",
        "* **bdemirc1@binghamton.edu**"
      ],
      "metadata": {
        "id": "t-uvib82LFpq"
      }
    },
    {
      "cell_type": "code",
      "source": [
        "import math\n",
        "from scipy.special import gamma"
      ],
      "metadata": {
        "id": "4fZ08NL6LqXT"
      },
      "execution_count": 70,
      "outputs": []
    },
    {
      "cell_type": "markdown",
      "source": [
        "**Part 1 [16 pts]: Numerical Inversion by Binary Search**\n",
        "\n",
        "For this part, you are to write a function named invert that has two required parameters and one optional parameter d. The required parameters are another function f(x) and a y value. Your function should return the x value such that f(x) = y. The function is guaranteed to be non-decreasing, i.e., the derivative is always 0 or positive. If a 3rd argument is given, it will be a tuple (if using Python) representing an interval where the function is guaranteed to be non-decreasing. Otherwise, you may assume that the function is everywhere non-decreasing.\n",
        "\n",
        "Make sure your function always terminates.\n"
      ],
      "metadata": {
        "id": "UjMLr0Sco3CN"
      }
    },
    {
      "cell_type": "code",
      "source": [
        "# For testing\n",
        "def f(x):\n",
        "  return 3*x + 1\n",
        "\n",
        "def f1(x):\n",
        "  return x**2\n",
        "\n",
        "def f2(x):\n",
        "  return 1e9*x\n",
        "\n",
        "def invert(f, y, d=None):\n",
        "  if d is not None:\n",
        "    left, right = d\n",
        "  else:\n",
        "    left, right = -1e9, 1e9\n",
        "\n",
        "  # Bisection method for finding the root\n",
        "  precision = 1e-9\n",
        "  while right-left > precision:\n",
        "    mid = left + (right-left)/2 # To avoid overflow\n",
        "    if f(mid) < y:\n",
        "      left = mid\n",
        "    else:\n",
        "      right = mid\n",
        "  return (left + right)/2\n",
        "\n",
        "print(invert(f, 13))\n",
        "print(invert(f1, 25, (0,5)))\n",
        "print(invert(f2, 1e9))\n"
      ],
      "metadata": {
        "colab": {
          "base_uri": "https://localhost:8080/"
        },
        "id": "TziVfvv4pGPj",
        "outputId": "80fc2f55-1d62-4ebf-c4db-557f0c5e1af1"
      },
      "execution_count": 24,
      "outputs": [
        {
          "output_type": "stream",
          "name": "stdout",
          "text": [
            "4.000000000062981\n",
            "4.999999999708962\n",
            "0.999999999907325\n"
          ]
        }
      ]
    },
    {
      "cell_type": "markdown",
      "source": [
        "Part 1.1 [8 pts]: Transcendental Functions"
      ],
      "metadata": {
        "id": "-BR3xa9k6k8e"
      }
    },
    {
      "cell_type": "code",
      "source": [
        "def transcendental(x):\n",
        "  return x* (math.e)**x + x\n",
        "\n",
        "d_intervals = { (-1,1), (-1e3, 1e3)}\n",
        "x_values_to_test = [-5, -2, 0, 5, 10, 50]\n",
        "\n",
        "# Test x values in d_intervals\n",
        "for d in d_intervals:\n",
        "  for x_value in x_values_to_test:\n",
        "      y_value = transcendental(x_value)\n",
        "      inverted_x_value = invert(transcendental, y_value, d)\n",
        "      print(f\"For interval {d}, x_value: {x_value}, y_value: {y_value:.3f}, inverted: {inverted_x_value:.3f}\")\n",
        "\n",
        "# Overflow problem?"
      ],
      "metadata": {
        "colab": {
          "base_uri": "https://localhost:8080/"
        },
        "id": "Ng9uzpvb6nnQ",
        "outputId": "359c4872-1e09-47ae-de6e-ba641ebeb2ee"
      },
      "execution_count": 71,
      "outputs": [
        {
          "output_type": "stream",
          "name": "stdout",
          "text": [
            "For interval (-1, 1), x_value: -5, y_value: -5.034, inverted: -1.000\n",
            "For interval (-1, 1), x_value: -2, y_value: -2.271, inverted: -1.000\n",
            "For interval (-1, 1), x_value: 0, y_value: 0.000, inverted: -0.000\n",
            "For interval (-1, 1), x_value: 5, y_value: 747.066, inverted: 1.000\n",
            "For interval (-1, 1), x_value: 10, y_value: 220274.658, inverted: 1.000\n",
            "For interval (-1, 1), x_value: 50, y_value: 259235276429352937455616.000, inverted: 1.000\n",
            "For interval (-1000.0, 1000.0), x_value: -5, y_value: -5.034, inverted: -5.000\n",
            "For interval (-1000.0, 1000.0), x_value: -2, y_value: -2.271, inverted: -2.000\n",
            "For interval (-1000.0, 1000.0), x_value: 0, y_value: 0.000, inverted: -0.000\n",
            "For interval (-1000.0, 1000.0), x_value: 5, y_value: 747.066, inverted: 5.000\n",
            "For interval (-1000.0, 1000.0), x_value: 10, y_value: 220274.658, inverted: 10.000\n",
            "For interval (-1000.0, 1000.0), x_value: 50, y_value: 259235276429352937455616.000, inverted: 50.000\n"
          ]
        }
      ]
    },
    {
      "cell_type": "markdown",
      "source": [
        "Part 1.2 [8 pts]: Gamma Function"
      ],
      "metadata": {
        "id": "r9QF_ncsa2dE"
      }
    },
    {
      "cell_type": "code",
      "source": [
        "def g(x):\n",
        "  return gamma(x)\n",
        "\n",
        "print(invert(g, 1, (1.5, 16) ))"
      ],
      "metadata": {
        "colab": {
          "base_uri": "https://localhost:8080/"
        },
        "id": "-S1mBsbja3Kh",
        "outputId": "8f72523b-ba94-4e00-c387-8b04de282223"
      },
      "execution_count": 77,
      "outputs": [
        {
          "output_type": "stream",
          "name": "stdout",
          "text": [
            "2.0000000002473826\n"
          ]
        }
      ]
    }
  ]
}